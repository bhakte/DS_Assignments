{
  "nbformat": 4,
  "nbformat_minor": 0,
  "metadata": {
    "colab": {
      "provenance": []
    },
    "kernelspec": {
      "name": "python3",
      "display_name": "Python 3"
    },
    "language_info": {
      "name": "python"
    }
  },
  "cells": [
    {
      "cell_type": "markdown",
      "source": [
        "**Background:**  \n",
        "Bombay hospitality Ltd. operates a franchise model for producing exotic Norwegian dinners throughout New England. The operating cost for a franchise in a week (W) is given by the equation W = $1,000 + $5X, where X represents the number of units produced in a week. Recent feedback from restaurant owners suggests that this cost model may no longer be accurate, as their observed weekly operating costs are higher.\n",
        "\n",
        "**Objective:**\n",
        "To investigate the restaurant owners' claim about the increase in weekly operating costs using hypothesis testing.\n",
        "\n",
        "**Data Provided:**\n",
        "•\tThe theoretical weekly operating cost model: W = $1,000 + $5X\n",
        "•\tSample of 25 restaurants with a mean weekly cost of Rs. 3,050\n",
        "•\tNumber of units produced in a week (X) follows a normal distribution with a mean (μ) of 600 units and a standard deviation (σ) of 25 units\n",
        "\n",
        "**Assignment Tasks:**\n",
        "1. State the Hypotheses statement:\n",
        "2. Calculate the Test Statistic:  \n",
        "Use the following formula to calculate the test statistic (t):\n",
        "where:\n",
        "•\tˉxˉ = sample mean weekly cost (Rs. 3,050)\n",
        "•\tμ = theoretical mean weekly cost according to the cost model (W = $1,000 + $5X for X = 600 units)\n",
        "•\tσ = 5*25 units\n",
        "•\tn = sample size (25 restaurants)\n",
        "3. Determine the Critical Value:  \n",
        "Using the alpha level of 5% (α = 0.05), determine the critical value from the standard normal (Z) distribution table.\n",
        "4. Make a Decision:  \n",
        "Compare the test statistic with the critical value to decide whether to reject the null hypothesis.\n",
        "5. Conclusion:  \n",
        "Based on the decision in step 4, conclude whether there is strong evidence to support the restaurant owners' claim that the weekly operating costs are higher than the model suggests.\n",
        "\n",
        "Submission Guidelines:  \n",
        "•\tPrepare python file detailing each step of your hypothesis testing process.\n",
        "•\tInclude calculations for the test statistic and the critical value.\n",
        "•\tProvide a clear conclusion based on your analysis.\n"
      ],
      "metadata": {
        "id": "0pLtG4Zu7uCK"
      }
    },
    {
      "cell_type": "code",
      "execution_count": 1,
      "metadata": {
        "id": "re4KvaRa7sYz"
      },
      "outputs": [],
      "source": [
        "import math\n",
        "from scipy.stats import norm"
      ]
    },
    {
      "cell_type": "markdown",
      "source": [
        "Theoretical cost model:\n",
        "\n",
        "W=1000+5X\n",
        "When\n",
        "X=600,\n",
        "\n",
        "μ=1000+5×600=4000"
      ],
      "metadata": {
        "id": "Y-wphoi7H3MF"
      }
    },
    {
      "cell_type": "code",
      "source": [
        "# Given data\n",
        "sample_mean = 3050       # Mean cost from sample\n",
        "theoretical_mean = 4000  # Expected cost from model (mu)\n",
        "std_dev_per_unit = 5\n",
        "std_dev_units = 25\n",
        "sample_size = 25"
      ],
      "metadata": {
        "id": "xhPyjQsS877J"
      },
      "execution_count": 11,
      "outputs": []
    },
    {
      "cell_type": "markdown",
      "source": [
        "**1. State the Hypotheses**"
      ],
      "metadata": {
        "id": "S61is3dMJWaG"
      }
    },
    {
      "cell_type": "markdown",
      "source": [
        "Hypotheses:\n",
        "\n",
        "Null Hypothesis (H₀):\n",
        "μ=4000\n",
        "\n",
        "Alternative Hypothesis (H₁):\n",
        "μ>4000\n",
        "\n",
        "NOte : This tests whether the actual mean weekly cost is higher than the theoretical model."
      ],
      "metadata": {
        "id": "_EN67IpFIkJQ"
      }
    },
    {
      "cell_type": "markdown",
      "source": [
        "**2. Calculate the Test Statistic**"
      ],
      "metadata": {
        "id": "mNkG3PqjJdOL"
      }
    },
    {
      "cell_type": "code",
      "source": [
        "# Step 1: Calculate standard deviation of cost\n",
        "population_std_dev = std_dev_per_unit * std_dev_units  # σ = 5 * 25 = 125"
      ],
      "metadata": {
        "id": "b2LOntTZBEOJ"
      },
      "execution_count": 3,
      "outputs": []
    },
    {
      "cell_type": "markdown",
      "source": [
        "We use the Z-test Since σ is known, and sample size is 25 (Sample size < 30) and the formula is:\n",
        "\n",
        "\n",
        "![image.png](data:image/png;base64,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)"
      ],
      "metadata": {
        "id": "Mq7xfVZzBv8Y"
      }
    },
    {
      "cell_type": "code",
      "source": [
        "# Step 2: Calculate standard error\n",
        "standard_error = population_std_dev / math.sqrt(sample_size)"
      ],
      "metadata": {
        "id": "Qzmlc-HxBNp4"
      },
      "execution_count": 4,
      "outputs": []
    },
    {
      "cell_type": "code",
      "source": [
        "# Step 3: Calculate Z-test statistic\n",
        "z = (sample_mean - theoretical_mean) / standard_error\n",
        "z"
      ],
      "metadata": {
        "colab": {
          "base_uri": "https://localhost:8080/"
        },
        "id": "M-vyWQxPGkAI",
        "outputId": "b96fef0b-0b0e-4307-f323-6c8a1381d11f"
      },
      "execution_count": 12,
      "outputs": [
        {
          "output_type": "execute_result",
          "data": {
            "text/plain": [
              "-38.0"
            ]
          },
          "metadata": {},
          "execution_count": 12
        }
      ]
    },
    {
      "cell_type": "markdown",
      "source": [
        "**3. Determine the Critical Value**"
      ],
      "metadata": {
        "id": "UkFAT-hSJnXG"
      }
    },
    {
      "cell_type": "markdown",
      "source": [
        "***NOTE:***\n",
        "\n",
        "**Why do we choose a right-tailed test at α = 0.05?**\n",
        "\n",
        "**-->** Because the claim being tested is:\n",
        "\"Restaurant owners suggest the weekly operating costs are higher than the model predicts.\"\n",
        "\n",
        "**In hypothesis testing:**\n",
        "\n",
        "If the claim is \"greater than\" → use a right-tailed test\n",
        "\n",
        "If the claim is \"less than\" → use a left-tailed test\n",
        "\n",
        "If the claim is \"different from\" (either higher or lower) → use a two-tailed test\n",
        "\n",
        "So, in our case:\n",
        "\n",
        "H₀ (null): μ = 4000\n",
        "\n",
        "H₁ (alt): μ > 4000 (increase in cost)\n",
        "\n",
        " Hence, we do a right-tailed test, and at α = 0.05, the critical Z value = +1.645 (from Z-tables)."
      ],
      "metadata": {
        "id": "-iJvS5ZDK64p"
      }
    },
    {
      "cell_type": "code",
      "source": [
        "# Step 4: Determine critical value for right-tailed test at alpha = 0.05\n",
        "alpha = 0.05\n",
        "z_critical = norm.ppf(1 - alpha)  # Right tail\n",
        "z_critical"
      ],
      "metadata": {
        "colab": {
          "base_uri": "https://localhost:8080/"
        },
        "id": "R0CE-hBlGm4_",
        "outputId": "43542935-9086-45da-89d4-6a410c30c4cc"
      },
      "execution_count": 13,
      "outputs": [
        {
          "output_type": "execute_result",
          "data": {
            "text/plain": [
              "np.float64(1.6448536269514722)"
            ]
          },
          "metadata": {},
          "execution_count": 13
        }
      ]
    },
    {
      "cell_type": "code",
      "source": [
        "# Step 5: Print results\n",
        "print(f\"Z-test statistic: {z:.2f}\")\n",
        "print(f\"Critical value at alpha=0.05: {z_critical:.2f}\")"
      ],
      "metadata": {
        "colab": {
          "base_uri": "https://localhost:8080/"
        },
        "id": "ZGT4s7jSGvn7",
        "outputId": "deb2c112-b46c-4ea0-bf24-3ac2d6929c4c"
      },
      "execution_count": 7,
      "outputs": [
        {
          "output_type": "stream",
          "name": "stdout",
          "text": [
            "Z-test statistic: -38.00\n",
            "Critical value at alpha=0.05: 1.64\n"
          ]
        }
      ]
    },
    {
      "cell_type": "markdown",
      "source": [
        "**4. Make a Decision**"
      ],
      "metadata": {
        "id": "y0tMKYYPJ5W3"
      }
    },
    {
      "cell_type": "code",
      "source": [
        "# Step 6: Decision\n",
        "if z > z_critical:\n",
        "    print(\"Reject the null hypothesis: Weekly costs are significantly higher.\")\n",
        "else:\n",
        "    print(\"Fail to reject the null hypothesis: No evidence that costs are higher.\") # Z=−38.0<1.645"
      ],
      "metadata": {
        "colab": {
          "base_uri": "https://localhost:8080/"
        },
        "id": "lul-PjgIG1FX",
        "outputId": "4714fd87-a5ce-4adc-9a56-ec226f7a728e"
      },
      "execution_count": 10,
      "outputs": [
        {
          "output_type": "stream",
          "name": "stdout",
          "text": [
            "Fail to reject the null hypothesis: No evidence that costs are higher.\n"
          ]
        }
      ]
    },
    {
      "cell_type": "markdown",
      "source": [
        "**5. Conclusion**\n",
        "\n",
        "Interpretation:\n",
        "\n",
        "There is no evidence to support the claim that weekly operating costs are higher than the theoretical cost model suggests.\n",
        "\n",
        "Conclusion:\n",
        "\n",
        "Based on the sample data (mean cost Rs. 3,050), the actual operating costs appear to be significantly lower, not higher, than the model predicts. Therefore, the restaurant owners' claim is not supported by the given sample."
      ],
      "metadata": {
        "id": "wX4pgXRwKQlM"
      }
    },
    {
      "cell_type": "code",
      "source": [],
      "metadata": {
        "id": "WNnl_KzLG6EJ"
      },
      "execution_count": null,
      "outputs": []
    }
  ]
}