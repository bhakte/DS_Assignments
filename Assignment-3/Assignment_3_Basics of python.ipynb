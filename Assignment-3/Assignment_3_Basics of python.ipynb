{
  "nbformat": 4,
  "nbformat_minor": 0,
  "metadata": {
    "colab": {
      "provenance": []
    },
    "kernelspec": {
      "name": "python3",
      "display_name": "Python 3"
    },
    "language_info": {
      "name": "python"
    }
  },
  "cells": [
    {
      "cell_type": "markdown",
      "source": [
        "**Exercise 1: Prime Numbers**\n",
        "\n",
        "--> Write a Python program that checks whether a given number is prime or not. A prime number is a natural number greater than 1 that has no positive divisors other than 1 and itself."
      ],
      "metadata": {
        "id": "gwngnrJ0aaWX"
      }
    },
    {
      "cell_type": "code",
      "source": [
        "import math  # No import needed → use num ** 0.5 and import math if using math.sqrt()"
      ],
      "metadata": {
        "id": "iNDFaOgxTxSp"
      },
      "execution_count": null,
      "outputs": []
    },
    {
      "cell_type": "code",
      "source": [
        "num = int(input(\"Enter a number: \")) # taking input from user and The result is always a string, even if the user types a number"
      ],
      "metadata": {
        "colab": {
          "base_uri": "https://localhost:8080/"
        },
        "id": "qMrbIybpMOvB",
        "outputId": "e971ccb8-5c01-4d1e-a175-892ba4f984ac"
      },
      "execution_count": null,
      "outputs": [
        {
          "name": "stdout",
          "output_type": "stream",
          "text": [
            "Enter a number: 23\n"
          ]
        }
      ]
    },
    {
      "cell_type": "code",
      "source": [
        "if num > 1:  #A prime number must be greater than 1\n",
        "    for i in range(2, int(math.sqrt(num)) + 1): # The range() function in Python excludes the upper limit.So We add +1 to include the square root value in the loop\n",
        "        if num % i == 0:  # If remainder is 0, that means i divides num evenly, so num is not a prime number.\n",
        "            print(num, \"is not a prime number.\")\n",
        "            break\n",
        "    else:\n",
        "        print(num, \"is a prime number.\")\n",
        "else:\n",
        "    print(\"Prime numbers are greater than 1.\") # if less then 1 number entered"
      ],
      "metadata": {
        "colab": {
          "base_uri": "https://localhost:8080/"
        },
        "id": "EDl6Gnx2NVlQ",
        "outputId": "3e59e8c8-ad3f-4101-9714-b4485980be8b"
      },
      "execution_count": null,
      "outputs": [
        {
          "output_type": "stream",
          "name": "stdout",
          "text": [
            "23 is a prime number.\n"
          ]
        }
      ]
    },
    {
      "cell_type": "markdown",
      "source": [],
      "metadata": {
        "id": "t5GiecX_b3LA"
      }
    },
    {
      "cell_type": "markdown",
      "source": [
        "**Exercise 2: Product of Random Numbers**\n",
        "\n",
        "--> Develop a Python program that generates two random numbers and asks the user to enter the product of these numbers. The program should then check if the user's answer is correct and display an appropriate message."
      ],
      "metadata": {
        "id": "iNurj5M-a2pV"
      }
    },
    {
      "cell_type": "code",
      "source": [
        "import random as rd # random module is a built-in Python module"
      ],
      "metadata": {
        "id": "HExXhYQ8RZcE"
      },
      "execution_count": null,
      "outputs": []
    },
    {
      "cell_type": "code",
      "source": [
        "#random.randint(a, b) Returns a random integer between a and b\n",
        "num1 = rd.randint(1, 10) # Generate two random numbers between 1 and 10\n",
        "num2 = rd.randint(1, 10)"
      ],
      "metadata": {
        "id": "2VxWnn4TpJj0"
      },
      "execution_count": null,
      "outputs": []
    },
    {
      "cell_type": "code",
      "source": [
        "num1,num2"
      ],
      "metadata": {
        "colab": {
          "base_uri": "https://localhost:8080/"
        },
        "id": "VjGOmLcHpQV0",
        "outputId": "9a9f0ead-0071-469a-a98e-c30aca10159e"
      },
      "execution_count": null,
      "outputs": [
        {
          "output_type": "execute_result",
          "data": {
            "text/plain": [
              "(8, 2)"
            ]
          },
          "metadata": {},
          "execution_count": 5
        }
      ]
    },
    {
      "cell_type": "code",
      "source": [
        "# Ask the user to enter the product\n",
        "print(f\"What is the product of {num1} and {num2}?\")\n",
        "user_answer = int(input(\"Your answer: \"))"
      ],
      "metadata": {
        "colab": {
          "base_uri": "https://localhost:8080/"
        },
        "id": "CtyqZGvrpTDT",
        "outputId": "bf258549-bb8d-4eae-c7ba-7e350a17a26e"
      },
      "execution_count": null,
      "outputs": [
        {
          "name": "stdout",
          "output_type": "stream",
          "text": [
            "What is the product of 8 and 2?\n",
            "Your answer: 24\n"
          ]
        }
      ]
    },
    {
      "cell_type": "code",
      "source": [
        "# Calculate the correct product\n",
        "correct_answer = num1 * num2\n",
        "# correct_answer"
      ],
      "metadata": {
        "id": "BkepDCULpesw"
      },
      "execution_count": null,
      "outputs": []
    },
    {
      "cell_type": "code",
      "source": [
        "# Check if the user's answer is correct\n",
        "if user_answer == correct_answer:\n",
        "    print(\"Correct! Well done.\")\n",
        "else:\n",
        "    print(f\"Incorrect. The correct answer is {correct_answer}.\")"
      ],
      "metadata": {
        "colab": {
          "base_uri": "https://localhost:8080/"
        },
        "id": "7EKZLAJWpmu3",
        "outputId": "397c22bf-31d2-4a8a-878a-fa3ac0a9c91c"
      },
      "execution_count": null,
      "outputs": [
        {
          "output_type": "stream",
          "name": "stdout",
          "text": [
            "Incorrect. The correct answer is 16.\n"
          ]
        }
      ]
    },
    {
      "cell_type": "markdown",
      "source": [
        "**Exercise 3: Squares of Even/Odd Numbers**\n",
        "\n",
        "-->Create a Python script that prints the squares of all even or odd numbers within the range of 100 to 200. Choose either even or odd numbers and document your choice in the code."
      ],
      "metadata": {
        "id": "JwJNpGEHYY8v"
      }
    },
    {
      "cell_type": "markdown",
      "source": [
        "*   We are choosing ODD numbers for this task.\n",
        "*   Odd numbers are those which are not divisible by 2 (i.e., number % 2 != 0)\n",
        "\n"
      ],
      "metadata": {
        "id": "DlDkwcwoiAUp"
      }
    },
    {
      "cell_type": "code",
      "source": [
        "for number in range(100,201):  # The range() function in Python excludes the upper limit.So We take upto 201 to include the 200 in the loop\n",
        "  if number % 2 != 0: # Check if the number is odd. For even numbers -> number % 2 == 0:\n",
        "    print(f\"The square of {number} is {number**2}\") # Squaring each odd numbers from 100 to 200 and printing them"
      ],
      "metadata": {
        "id": "nyMTGTYGpyy_",
        "colab": {
          "base_uri": "https://localhost:8080/"
        },
        "outputId": "61eb275c-d3fa-4f24-d147-dc60f593f6ce"
      },
      "execution_count": null,
      "outputs": [
        {
          "output_type": "stream",
          "name": "stdout",
          "text": [
            "The square of 101 is 10201\n",
            "The square of 103 is 10609\n",
            "The square of 105 is 11025\n",
            "The square of 107 is 11449\n",
            "The square of 109 is 11881\n",
            "The square of 111 is 12321\n",
            "The square of 113 is 12769\n",
            "The square of 115 is 13225\n",
            "The square of 117 is 13689\n",
            "The square of 119 is 14161\n",
            "The square of 121 is 14641\n",
            "The square of 123 is 15129\n",
            "The square of 125 is 15625\n",
            "The square of 127 is 16129\n",
            "The square of 129 is 16641\n",
            "The square of 131 is 17161\n",
            "The square of 133 is 17689\n",
            "The square of 135 is 18225\n",
            "The square of 137 is 18769\n",
            "The square of 139 is 19321\n",
            "The square of 141 is 19881\n",
            "The square of 143 is 20449\n",
            "The square of 145 is 21025\n",
            "The square of 147 is 21609\n",
            "The square of 149 is 22201\n",
            "The square of 151 is 22801\n",
            "The square of 153 is 23409\n",
            "The square of 155 is 24025\n",
            "The square of 157 is 24649\n",
            "The square of 159 is 25281\n",
            "The square of 161 is 25921\n",
            "The square of 163 is 26569\n",
            "The square of 165 is 27225\n",
            "The square of 167 is 27889\n",
            "The square of 169 is 28561\n",
            "The square of 171 is 29241\n",
            "The square of 173 is 29929\n",
            "The square of 175 is 30625\n",
            "The square of 177 is 31329\n",
            "The square of 179 is 32041\n",
            "The square of 181 is 32761\n",
            "The square of 183 is 33489\n",
            "The square of 185 is 34225\n",
            "The square of 187 is 34969\n",
            "The square of 189 is 35721\n",
            "The square of 191 is 36481\n",
            "The square of 193 is 37249\n",
            "The square of 195 is 38025\n",
            "The square of 197 is 38809\n",
            "The square of 199 is 39601\n"
          ]
        }
      ]
    },
    {
      "cell_type": "markdown",
      "source": [
        "**Exercise 4: Word counter**\n",
        "\n",
        "write a program to count the number of words in a given text.\n",
        "\n",
        "example:\n",
        "\n",
        "input_text = \"This is a sample text. This text will be used to demonstrate the word counter.\"\n",
        "\n",
        "Expected output:\n",
        "\n",
        "'This': 2\n",
        "\n",
        "'is': 1\n",
        "\n",
        "'a': 1\n",
        "\n",
        "'sample': 1\n",
        "\n",
        "'text.': 1\n"
      ],
      "metadata": {
        "id": "czRvsKxvujeC"
      }
    },
    {
      "cell_type": "code",
      "source": [
        "from collections import Counter"
      ],
      "metadata": {
        "id": "3c415d655Lwk"
      },
      "execution_count": 6,
      "outputs": []
    },
    {
      "cell_type": "code",
      "source": [
        "# Input text\n",
        "input_text = \"This is a sample text. This text will be used to demonstrate the word counter.\""
      ],
      "metadata": {
        "id": "MaQSi07TczxZ"
      },
      "execution_count": 14,
      "outputs": []
    },
    {
      "cell_type": "code",
      "source": [
        "# Note : Incase of to ask Convert to lowercase and Remove punctuation for accurate word matching\n",
        "# input_text1 = input_text.lower() -> Convert to lowercase (optional but helps in case-insensitive counting)\n",
        "# clean_text = input_text1.translate(str.maketrans('', '', string.punctuation)) - > Remove punctuation"
      ],
      "metadata": {
        "id": "54URLLzmyHE5"
      },
      "execution_count": 16,
      "outputs": []
    },
    {
      "cell_type": "markdown",
      "source": [
        "1. ***string.punctuation***\n",
        "\n",
        "This is a predefined string in Python’s string module.\n",
        "It contains all standard punctuation characters: '!\"#$%&\\'()*+,-./:;<=>?@[\\\\]^_`{|}~'\n",
        "\n",
        "2. ***str.maketrans('', '', string.punctuation)***\n",
        "\n",
        "str.maketrans(x, y, z) is a method that creates a translation table for use with str.translate().\n",
        "\n",
        "When used as str.maketrans('', '', string.punctuation), it means:\n",
        "\n",
        "First argument (''): No characters to replace.\n",
        "\n",
        "Second argument (''): No characters to replace them with.\n",
        "\n",
        "Third argument (string.punctuation): All these characters should be deleted.\n",
        "\n",
        "3. ***input_text.translate(...)***\n",
        "\n",
        "The translate() method uses the translation table from maketrans() to process the string.\n",
        "\n",
        "It returns a new string where:\n",
        "\n",
        "Every punctuation character is removed.\n",
        "\n",
        "All other characters are unchanged."
      ],
      "metadata": {
        "id": "LWv8cj1C8NGc"
      }
    },
    {
      "cell_type": "code",
      "source": [
        "# Split the input text into words\n",
        "words = input_text.split()"
      ],
      "metadata": {
        "id": "aSI06jqb50s4"
      },
      "execution_count": 11,
      "outputs": []
    },
    {
      "cell_type": "code",
      "source": [
        "# Count the frequency of each word\n",
        "word_counts = Counter(words)"
      ],
      "metadata": {
        "id": "CEbTplFBzOdz"
      },
      "execution_count": 15,
      "outputs": []
    },
    {
      "cell_type": "code",
      "source": [
        "# Display the result using for loop\n",
        "for word, count in word_counts.items():\n",
        "    print(f\"'{word}': {count}\")"
      ],
      "metadata": {
        "colab": {
          "base_uri": "https://localhost:8080/"
        },
        "id": "wWQzyrmizRYK",
        "outputId": "5511db2c-8164-4ee0-85b6-9565bc47769a"
      },
      "execution_count": 17,
      "outputs": [
        {
          "output_type": "stream",
          "name": "stdout",
          "text": [
            "'This': 2\n",
            "'is': 1\n",
            "'a': 1\n",
            "'sample': 1\n",
            "'text.': 1\n",
            "'text': 1\n",
            "'will': 1\n",
            "'be': 1\n",
            "'used': 1\n",
            "'to': 1\n",
            "'demonstrate': 1\n",
            "'the': 1\n",
            "'word': 1\n",
            "'counter.': 1\n"
          ]
        }
      ]
    },
    {
      "cell_type": "code",
      "source": [],
      "metadata": {
        "id": "U6-LSJkL5Z0X"
      },
      "execution_count": null,
      "outputs": []
    },
    {
      "cell_type": "markdown",
      "source": [
        "**Exercise 5: Check for Palindrome**\n",
        "\n",
        "-> Write a Python function called is_palindrome that takes a string as input and returns True if the string is a palindrome, and False otherwise. A palindrome is a word, phrase, number, or other sequence of characters that reads the same forward and backward, ignoring spaces, punctuation, and capitalization.\n",
        "\n",
        "Example:\n",
        "\n",
        "Input: \"racecar\"\n",
        "\n",
        "Expected Output: True\n"
      ],
      "metadata": {
        "id": "2lZQr-cx-r1c"
      }
    },
    {
      "cell_type": "code",
      "source": [
        "import string"
      ],
      "metadata": {
        "id": "uzYkM-RW_8TP"
      },
      "execution_count": 18,
      "outputs": []
    },
    {
      "cell_type": "markdown",
      "source": [
        "1.   **def** is a keyword in Python used to **define a function**.\n",
        "2.   **is_palindrome** is the name of the function.\n",
        "\n",
        "\n",
        "1.   **(s)** means the function takes **one input parameter**, which we’ve named **s**.\n",
        "\n",
        "      This **s** is expected to be a string.\n",
        "2.   List item\n",
        "\n",
        "\n",
        "\n"
      ],
      "metadata": {
        "id": "0Zh8_Fb4CiVm"
      }
    },
    {
      "cell_type": "code",
      "source": [
        "def is_palindrome(s):\n",
        "    s = s.lower() #Converts the string to lowercase to ignore case differences\n",
        "    s = s.translate(str.maketrans('', '', string.punctuation)) #Removes punctuation using a translation table\n",
        "    s = s.replace(\" \", \"\") #Removes spaces\n",
        "    return s == s[::-1] # Check if string is equal to its reverse. 1.If they are the same, it's a palindrome → returns True. 2.Otherwise → returns False."
      ],
      "metadata": {
        "id": "dEQTOk8L_9Kd"
      },
      "execution_count": 21,
      "outputs": []
    },
    {
      "cell_type": "code",
      "source": [
        "print(is_palindrome(\"racecar\")) # True"
      ],
      "metadata": {
        "colab": {
          "base_uri": "https://localhost:8080/"
        },
        "id": "sc2iLpNKAnTg",
        "outputId": "38ed5e2e-4d4e-43ee-bece-dbb934898ac6"
      },
      "execution_count": 22,
      "outputs": [
        {
          "output_type": "stream",
          "name": "stdout",
          "text": [
            "True\n"
          ]
        }
      ]
    },
    {
      "cell_type": "code",
      "source": [
        "print(is_palindrome(\"No lemon, no melon\")) # True"
      ],
      "metadata": {
        "colab": {
          "base_uri": "https://localhost:8080/"
        },
        "id": "MXgwRj9DBbjh",
        "outputId": "84a25bd3-06c6-41ff-e3e4-eee7487c6331"
      },
      "execution_count": 25,
      "outputs": [
        {
          "output_type": "stream",
          "name": "stdout",
          "text": [
            "True\n"
          ]
        }
      ]
    },
    {
      "cell_type": "code",
      "source": [
        "print(is_palindrome(\"Bhakte\")) # False"
      ],
      "metadata": {
        "colab": {
          "base_uri": "https://localhost:8080/"
        },
        "id": "FACi-YqREcne",
        "outputId": "08e111fb-5e21-4166-9183-8c59ca3f4923"
      },
      "execution_count": 26,
      "outputs": [
        {
          "output_type": "stream",
          "name": "stdout",
          "text": [
            "False\n"
          ]
        }
      ]
    },
    {
      "cell_type": "code",
      "source": [
        "print(\"Thank you 😊\")"
      ],
      "metadata": {
        "colab": {
          "base_uri": "https://localhost:8080/"
        },
        "id": "jnlPpQS7F2ck",
        "outputId": "f1755f02-79fe-40a9-b5f0-1ed827b70289"
      },
      "execution_count": 27,
      "outputs": [
        {
          "output_type": "stream",
          "name": "stdout",
          "text": [
            "Thank you 😊\n"
          ]
        }
      ]
    },
    {
      "cell_type": "code",
      "source": [],
      "metadata": {
        "id": "RjIur9NxF3Zu"
      },
      "execution_count": null,
      "outputs": []
    }
  ]
}