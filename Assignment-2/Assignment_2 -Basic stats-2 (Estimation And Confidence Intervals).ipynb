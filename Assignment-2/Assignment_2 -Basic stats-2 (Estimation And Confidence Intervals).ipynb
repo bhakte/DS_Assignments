{
  "nbformat": 4,
  "nbformat_minor": 0,
  "metadata": {
    "colab": {
      "provenance": []
    },
    "kernelspec": {
      "name": "python3",
      "display_name": "Python 3"
    },
    "language_info": {
      "name": "python"
    }
  },
  "cells": [
    {
      "cell_type": "markdown",
      "source": [
        "**Assignment - 2**                            \n",
        "Estimation And Confidence Intervals"
      ],
      "metadata": {
        "id": "TtLyClnsvT9O"
      }
    },
    {
      "cell_type": "code",
      "execution_count": 1,
      "metadata": {
        "id": "Lx1cOJwkjSEu"
      },
      "outputs": [],
      "source": [
        "import pandas as pd\n",
        "import numpy as np\n",
        "import scipy.stats as stats"
      ]
    },
    {
      "cell_type": "code",
      "source": [
        "# Sample data\n",
        "data = [1.13, 1.55, 1.43, 0.92, 1.25, 1.36, 1.32, 0.85, 1.07, 1.48, 1.20, 1.33, 1.18, 1.22, 1.29]"
      ],
      "metadata": {
        "id": "SDnxSqczzLy0"
      },
      "execution_count": 2,
      "outputs": []
    },
    {
      "cell_type": "markdown",
      "source": [
        "**a. Build 99% Confidence Interval Using Sample Standard Deviation**\n",
        "\n",
        "Assuming the sample is representative of the population, construct a 99% confidence interval for the mean number of characters printed before the print-head fails using the sample standard deviation. Explain the steps you take and the rationale behind using the t-distribution for this task.\n"
      ],
      "metadata": {
        "id": "B4OKBGy62ROZ"
      }
    },
    {
      "cell_type": "code",
      "source": [
        "# Sample statistics\n",
        "n = len(data)\n",
        "mean = np.mean(data)\n",
        "std_dev = np.std(data, ddof=1)  # sample standard deviation\n",
        "mean,std_dev"
      ],
      "metadata": {
        "colab": {
          "base_uri": "https://localhost:8080/"
        },
        "id": "Hpu8bJZdzOhd",
        "outputId": "d326c72f-8e02-4082-9e4f-a14e898184d9"
      },
      "execution_count": 9,
      "outputs": [
        {
          "output_type": "execute_result",
          "data": {
            "text/plain": [
              "(np.float64(1.2386666666666666), np.float64(0.19316412956959936))"
            ]
          },
          "metadata": {},
          "execution_count": 9
        }
      ]
    },
    {
      "cell_type": "code",
      "source": [
        "# Confidence level and degrees of freedom\n",
        "confidence = 0.99\n",
        "df = n - 1\n",
        "df"
      ],
      "metadata": {
        "colab": {
          "base_uri": "https://localhost:8080/"
        },
        "id": "cf4mT_lKz6TP",
        "outputId": "d63e9512-c774-4414-b0a4-85daf17b924f"
      },
      "execution_count": 10,
      "outputs": [
        {
          "output_type": "execute_result",
          "data": {
            "text/plain": [
              "14"
            ]
          },
          "metadata": {},
          "execution_count": 10
        }
      ]
    },
    {
      "cell_type": "code",
      "source": [
        "# t-critical value\n",
        "# sample size is small (n = 15 < 30) hance we will use t - distribution\n",
        "t_critical = stats.t.ppf((1 + confidence) / 2, df)\n",
        "t_critical"
      ],
      "metadata": {
        "colab": {
          "base_uri": "https://localhost:8080/"
        },
        "id": "73uWA2wCz9c_",
        "outputId": "cf09545b-3921-453b-98f6-a8cde70b03f7"
      },
      "execution_count": 11,
      "outputs": [
        {
          "output_type": "execute_result",
          "data": {
            "text/plain": [
              "np.float64(2.976842734370834)"
            ]
          },
          "metadata": {},
          "execution_count": 11
        }
      ]
    },
    {
      "cell_type": "code",
      "source": [
        "# Margin of error\n",
        "margin_of_error = t_critical * (std_dev / np.sqrt(n))"
      ],
      "metadata": {
        "id": "nmtUCOoP0ADn"
      },
      "execution_count": 6,
      "outputs": []
    },
    {
      "cell_type": "code",
      "source": [
        "# Confidence interval\n",
        "ci_lower = mean - margin_of_error\n",
        "ci_upper = mean + margin_of_error\n",
        "ci_lower,ci_upper"
      ],
      "metadata": {
        "colab": {
          "base_uri": "https://localhost:8080/"
        },
        "id": "2jfrW6oI0J22",
        "outputId": "28d15cfb-a6c4-4825-8d47-f98ba40168fd"
      },
      "execution_count": 12,
      "outputs": [
        {
          "output_type": "execute_result",
          "data": {
            "text/plain": [
              "(np.float64(1.0901973384384906), np.float64(1.3871359948948425))"
            ]
          },
          "metadata": {},
          "execution_count": 12
        }
      ]
    },
    {
      "cell_type": "code",
      "source": [
        "# Output\n",
        "print(f\"Sample Mean: {mean:.4f}\") # 4f means 4 decimal places\n",
        "print(f\"Sample Standard Deviation: {std_dev:.4f}\")\n",
        "print(f\"t-critical value (df={df}): {t_critical:.4f}\") # 4f means 4 decimal places\n",
        "print(f\"99% Confidence Interval: ({ci_lower:.3f}, {ci_upper:.3f})\") # 3f means 4 decimal places"
      ],
      "metadata": {
        "colab": {
          "base_uri": "https://localhost:8080/"
        },
        "id": "Dg41Dpp60Myy",
        "outputId": "037ddb89-9e45-4389-c8b7-fbdddfd06830"
      },
      "execution_count": 38,
      "outputs": [
        {
          "output_type": "stream",
          "name": "stdout",
          "text": [
            "Sample Mean: 1.2387\n",
            "Sample Standard Deviation: 0.1932\n",
            "t-critical value (df=14): 2.9768\n",
            "99% Confidence Interval: (1.106, 1.372)\n"
          ]
        }
      ]
    },
    {
      "cell_type": "markdown",
      "source": [
        "**Rationale for Using t-Distribution:**\n",
        "1.   The sample size is small (n = 15 < 30).\n",
        "2.   Population standard deviation (σ) is unknown.\n",
        "\n",
        "1.   Hence, the t-distribution is appropriate, as it accounts for extra uncertainty in the estimate of the standard deviation.\n",
        "\n",
        "\n",
        "\n",
        "\n",
        "\n",
        "\n",
        "\n"
      ],
      "metadata": {
        "id": "ac6l9U2p2w_E"
      }
    },
    {
      "cell_type": "markdown",
      "source": [
        "**b. Build 99% Confidence Interval Using Known Population Standard Deviation**\n",
        "\n",
        "If it were known that the population standard deviation is 0.2 million characters, construct a 99% confidence interval for the mean number of characters printed before failure.\n"
      ],
      "metadata": {
        "id": "RmeEi0D13oFP"
      }
    },
    {
      "cell_type": "code",
      "source": [
        "from scipy.stats import norm"
      ],
      "metadata": {
        "id": "Z_wOFayl0eSc"
      },
      "execution_count": 15,
      "outputs": []
    },
    {
      "cell_type": "code",
      "source": [
        "# Known population standard deviation\n",
        "sigma = 0.2"
      ],
      "metadata": {
        "id": "0S614UkJ3Hx9"
      },
      "execution_count": 16,
      "outputs": []
    },
    {
      "cell_type": "code",
      "source": [
        "# Sample statistics\n",
        "n = len(data)\n",
        "mean = np.mean(data)"
      ],
      "metadata": {
        "id": "kRnA7FXF5hUb"
      },
      "execution_count": 17,
      "outputs": []
    },
    {
      "cell_type": "code",
      "source": [
        "# Z-score for 99% confidence\n",
        "z_critical = norm.ppf(0.995)  # two-tailed - Two-tail Standard Normal Z-table\n",
        "# the area to the left of that z-value is: 1−0.005=0.995\n",
        "z_critical"
      ],
      "metadata": {
        "colab": {
          "base_uri": "https://localhost:8080/"
        },
        "id": "VLpKpw_X5u3Z",
        "outputId": "e1d6494c-8255-4b66-c015-83006815dec3"
      },
      "execution_count": 22,
      "outputs": [
        {
          "output_type": "execute_result",
          "data": {
            "text/plain": [
              "np.float64(2.5758293035489004)"
            ]
          },
          "metadata": {},
          "execution_count": 22
        }
      ]
    },
    {
      "cell_type": "code",
      "source": [
        "# Margin of error\n",
        "margin_of_error = z_critical * (sigma / np.sqrt(n))\n",
        "margin_of_error"
      ],
      "metadata": {
        "colab": {
          "base_uri": "https://localhost:8080/"
        },
        "id": "fgQS3K-z8T2S",
        "outputId": "b5897721-ed4a-4a8e-c5e3-f26b550c8e12"
      },
      "execution_count": 23,
      "outputs": [
        {
          "output_type": "execute_result",
          "data": {
            "text/plain": [
              "np.float64(0.13301525327090588)"
            ]
          },
          "metadata": {},
          "execution_count": 23
        }
      ]
    },
    {
      "cell_type": "code",
      "source": [
        "# Confidence interval\n",
        "ci_lower = mean - margin_of_error\n",
        "ci_upper = mean + margin_of_error\n",
        "ci_lower,ci_upper"
      ],
      "metadata": {
        "colab": {
          "base_uri": "https://localhost:8080/"
        },
        "id": "KJYbvGC0-3MN",
        "outputId": "9f12d7cc-93a4-49f0-d4ad-4fcec9a85b8d"
      },
      "execution_count": 25,
      "outputs": [
        {
          "output_type": "execute_result",
          "data": {
            "text/plain": [
              "(np.float64(1.1056514133957607), np.float64(1.3716819199375725))"
            ]
          },
          "metadata": {},
          "execution_count": 25
        }
      ]
    },
    {
      "cell_type": "code",
      "source": [
        "# Output\n",
        "print(f\"Sample Mean: {mean:.4f}\") # 4f means 4 decimal places\n",
        "print(f\"Population Standard Deviation: {sigma}\")\n",
        "print(f\"z-critical value: {z_critical:.4f}\") # 4f means 4 decimal places\n",
        "print(f\"99% Confidence Interval: ({ci_lower:.3f}, {ci_upper:.3f})\") # 3f means 4 decimal places"
      ],
      "metadata": {
        "colab": {
          "base_uri": "https://localhost:8080/"
        },
        "id": "C92MmZn5-65a",
        "outputId": "3f7fc575-6b0b-4c5a-be24-08797b835e49"
      },
      "execution_count": 39,
      "outputs": [
        {
          "output_type": "stream",
          "name": "stdout",
          "text": [
            "Sample Mean: 1.2387\n",
            "Population Standard Deviation: 0.2\n",
            "z-critical value: 2.5758\n",
            "99% Confidence Interval: (1.106, 1.372)\n"
          ]
        }
      ]
    },
    {
      "cell_type": "code",
      "source": [],
      "metadata": {
        "id": "j1nF6rf0_C00"
      },
      "execution_count": null,
      "outputs": []
    }
  ]
}