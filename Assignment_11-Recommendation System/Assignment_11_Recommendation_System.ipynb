{
  "nbformat": 4,
  "nbformat_minor": 0,
  "metadata": {
    "colab": {
      "provenance": []
    },
    "kernelspec": {
      "name": "python3",
      "display_name": "Python 3"
    },
    "language_info": {
      "name": "python"
    }
  },
  "cells": [
    {
      "cell_type": "markdown",
      "source": [
        "# Anime Recommendation System Using Cosine Similarity"
      ],
      "metadata": {
        "id": "T9PIKKQjDQlq"
      }
    },
    {
      "cell_type": "code",
      "execution_count": 1,
      "metadata": {
        "id": "_UCpCmaC4Baw"
      },
      "outputs": [],
      "source": [
        "# -----------------------------------------------\n",
        "# STEP 1: IMPORT NECESSARY LIBRARIES\n",
        "# -----------------------------------------------\n",
        "\n",
        "import pandas as pd\n",
        "import numpy as np\n",
        "from sklearn.preprocessing import MultiLabelBinarizer, MinMaxScaler\n",
        "from sklearn.metrics.pairwise import cosine_similarity\n",
        "import warnings\n",
        "warnings.filterwarnings('ignore')"
      ]
    },
    {
      "cell_type": "code",
      "source": [
        "# -----------------------------------------------\n",
        "# STEP 2: LOAD THE DATASET\n",
        "# -----------------------------------------------\n",
        "\n",
        "# Load the Anime dataset (update the path if needed)\n",
        "df = pd.read_csv('anime.csv')\n",
        "\n",
        "# Show the first few rows of the dataset\n",
        "print(\"\\nFirst 5 rows of the dataset:\")\n",
        "print(df.head())"
      ],
      "metadata": {
        "colab": {
          "base_uri": "https://localhost:8080/"
        },
        "id": "M7ZfIXSQDdAE",
        "outputId": "1c7e924d-f327-4b7d-853d-099f2d189ff7"
      },
      "execution_count": 5,
      "outputs": [
        {
          "output_type": "stream",
          "name": "stdout",
          "text": [
            "\n",
            "First 5 rows of the dataset:\n",
            "   anime_id                              name  \\\n",
            "0     32281                    Kimi no Na wa.   \n",
            "1      5114  Fullmetal Alchemist: Brotherhood   \n",
            "2     28977                          Gintama°   \n",
            "3      9253                       Steins;Gate   \n",
            "4      9969                     Gintama&#039;   \n",
            "\n",
            "                                               genre   type episodes  rating  \\\n",
            "0               Drama, Romance, School, Supernatural  Movie        1    9.37   \n",
            "1  Action, Adventure, Drama, Fantasy, Magic, Mili...     TV       64    9.26   \n",
            "2  Action, Comedy, Historical, Parody, Samurai, S...     TV       51    9.25   \n",
            "3                                   Sci-Fi, Thriller     TV       24    9.17   \n",
            "4  Action, Comedy, Historical, Parody, Samurai, S...     TV       51    9.16   \n",
            "\n",
            "   members  \n",
            "0   200630  \n",
            "1   793665  \n",
            "2   114262  \n",
            "3   673572  \n",
            "4   151266  \n"
          ]
        }
      ]
    },
    {
      "cell_type": "code",
      "source": [
        "# -----------------------------------------------\n",
        "# STEP 3: DATA EXPLORATION AND CLEANING\n",
        "# -----------------------------------------------"
      ],
      "metadata": {
        "id": "7zsQ-IqDD3Bi"
      },
      "execution_count": 6,
      "outputs": []
    },
    {
      "cell_type": "code",
      "source": [
        "# Check for missing values and data types\n",
        "print(\"\\nDataset info:\")\n",
        "print(df.info())"
      ],
      "metadata": {
        "colab": {
          "base_uri": "https://localhost:8080/"
        },
        "id": "kaOBlcGtFAyA",
        "outputId": "67e0ebf2-d249-4284-8f7c-ffec6d8b11ab"
      },
      "execution_count": 7,
      "outputs": [
        {
          "output_type": "stream",
          "name": "stdout",
          "text": [
            "\n",
            "Dataset info:\n",
            "<class 'pandas.core.frame.DataFrame'>\n",
            "RangeIndex: 12294 entries, 0 to 12293\n",
            "Data columns (total 7 columns):\n",
            " #   Column    Non-Null Count  Dtype  \n",
            "---  ------    --------------  -----  \n",
            " 0   anime_id  12294 non-null  int64  \n",
            " 1   name      12294 non-null  object \n",
            " 2   genre     12232 non-null  object \n",
            " 3   type      12269 non-null  object \n",
            " 4   episodes  12294 non-null  object \n",
            " 5   rating    12064 non-null  float64\n",
            " 6   members   12294 non-null  int64  \n",
            "dtypes: float64(1), int64(2), object(4)\n",
            "memory usage: 672.5+ KB\n",
            "None\n"
          ]
        }
      ]
    },
    {
      "cell_type": "code",
      "source": [
        "# Check the number of missing values in each column\n",
        "print(\"\\nMissing values in each column:\")\n",
        "print(df.isnull().sum())"
      ],
      "metadata": {
        "colab": {
          "base_uri": "https://localhost:8080/"
        },
        "id": "p5a-xHwQFFAD",
        "outputId": "c09a09b7-5649-44c2-9ffc-8a00a53d166e"
      },
      "execution_count": 8,
      "outputs": [
        {
          "output_type": "stream",
          "name": "stdout",
          "text": [
            "\n",
            "Missing values in each column:\n",
            "anime_id      0\n",
            "name          0\n",
            "genre        62\n",
            "type         25\n",
            "episodes      0\n",
            "rating      230\n",
            "members       0\n",
            "dtype: int64\n"
          ]
        }
      ]
    },
    {
      "cell_type": "code",
      "source": [
        "# Handle missing genres by replacing with 'Unknown'\n",
        "df['genre'] = df['genre'].fillna('Unknown')"
      ],
      "metadata": {
        "id": "yKP-1o5WFb0I"
      },
      "execution_count": 9,
      "outputs": []
    },
    {
      "cell_type": "code",
      "source": [
        "# Handle missing broadcast types ('type' column) by replacing with 'Unknown'\n",
        "df['type'] = df['type'].fillna('Unknown')"
      ],
      "metadata": {
        "id": "zwCwf4UlHHne"
      },
      "execution_count": 13,
      "outputs": []
    },
    {
      "cell_type": "code",
      "source": [
        "# Handle missing ratings by replacing them with the mean rating\n",
        "df['rating'] = df['rating'].fillna(df['rating'].mean())"
      ],
      "metadata": {
        "id": "741fl5YbFoo6"
      },
      "execution_count": 10,
      "outputs": []
    },
    {
      "cell_type": "code",
      "source": [
        "# Convert 'episodes' column from 'Unknown' to 0 and change datatype to int\n",
        "df['episodes'] = df['episodes'].replace('Unknown', '0').astype(int)"
      ],
      "metadata": {
        "id": "amJqbK9mFvH5"
      },
      "execution_count": 11,
      "outputs": []
    },
    {
      "cell_type": "code",
      "source": [
        "#checking all null values are treated\n",
        "print(df.isnull().sum())"
      ],
      "metadata": {
        "colab": {
          "base_uri": "https://localhost:8080/"
        },
        "id": "jxiFXcZ_F2OE",
        "outputId": "972a74d5-a7b7-46e8-d262-31ae13193c0d"
      },
      "execution_count": 15,
      "outputs": [
        {
          "output_type": "stream",
          "name": "stdout",
          "text": [
            "anime_id    0\n",
            "name        0\n",
            "genre       0\n",
            "type        0\n",
            "episodes    0\n",
            "rating      0\n",
            "members     0\n",
            "dtype: int64\n"
          ]
        }
      ]
    },
    {
      "cell_type": "code",
      "source": [
        "# -----------------------------------------------\n",
        "# STEP 4: FEATURE EXTRACTION AND TRANSFORMATION\n",
        "# -----------------------------------------------"
      ],
      "metadata": {
        "id": "ZBCfsFt7F83B"
      },
      "execution_count": 16,
      "outputs": []
    },
    {
      "cell_type": "code",
      "source": [
        "# Split genre strings into lists so that we can apply MultiLabelBinarizer\n",
        "df['genre'] = df['genre'].apply(lambda x: x.split(', ') if isinstance(x, str) else [])"
      ],
      "metadata": {
        "id": "BPIfcIw3IWJ5"
      },
      "execution_count": 17,
      "outputs": []
    },
    {
      "cell_type": "code",
      "source": [
        "# Convert genre lists to binary features using MultiLabelBinarizer\n",
        "mlb = MultiLabelBinarizer()\n",
        "genre_features = pd.DataFrame(mlb.fit_transform(df['genre']), columns=mlb.classes_)"
      ],
      "metadata": {
        "id": "QBrig3DtIh_r"
      },
      "execution_count": 18,
      "outputs": []
    },
    {
      "cell_type": "code",
      "source": [
        "# Normalize the 'rating' and 'members' columns to bring them to the same scale\n",
        "scaler = MinMaxScaler()\n",
        "df[['rating', 'members']] = scaler.fit_transform(df[['rating', 'members']])"
      ],
      "metadata": {
        "id": "ZVADMxivImt1"
      },
      "execution_count": 19,
      "outputs": []
    },
    {
      "cell_type": "code",
      "source": [
        "# Combine the genre binary features with normalized rating and members columns\n",
        "feature_df = pd.concat([genre_features, df[['rating', 'members']].reset_index(drop=True)], axis=1)"
      ],
      "metadata": {
        "id": "UOgowgiVIqlU"
      },
      "execution_count": 20,
      "outputs": []
    },
    {
      "cell_type": "code",
      "source": [
        "# -----------------------------------------------\n",
        "# STEP 5: BUILD THE RECOMMENDATION SYSTEM\n",
        "# -----------------------------------------------"
      ],
      "metadata": {
        "id": "Dq4HhAM9IwVP"
      },
      "execution_count": 21,
      "outputs": []
    },
    {
      "cell_type": "code",
      "source": [
        "# Compute the cosine similarity matrix for all anime\n",
        "cosine_sim = cosine_similarity(feature_df)"
      ],
      "metadata": {
        "id": "kMAapiJGIz1p"
      },
      "execution_count": 22,
      "outputs": []
    },
    {
      "cell_type": "code",
      "source": [
        "# Map anime titles to their index in the dataframe\n",
        "anime_indices = pd.Series(df.index, index=df['name']).drop_duplicates()"
      ],
      "metadata": {
        "id": "_Kfnbr-rI4Pi"
      },
      "execution_count": 23,
      "outputs": []
    },
    {
      "cell_type": "code",
      "source": [
        "# Function to recommend anime based on cosine similarity\n",
        "def recommend_anime(title, top_n=5):\n",
        "    \"\"\"\n",
        "    Recommend anime similar to the given title based on cosine similarity.\n",
        "    Args:\n",
        "        title (str): The anime title for which recommendations are needed.\n",
        "        top_n (int): The number of similar anime to return.\n",
        "    Returns:\n",
        "        pd.Series: Titles of recommended anime.\n",
        "    \"\"\"\n",
        "    if title not in anime_indices:\n",
        "        return f\"Anime '{title}' not found in the dataset.\"\n",
        "\n",
        "    idx = anime_indices[title]\n",
        "    sim_scores = list(enumerate(cosine_sim[idx]))\n",
        "\n",
        "    # Sort by similarity score in descending order\n",
        "    sim_scores = sorted(sim_scores, key=lambda x: x[1], reverse=True)\n",
        "\n",
        "    # Exclude the first anime (itself), and take the top N\n",
        "    sim_scores = sim_scores[1:top_n+1]\n",
        "\n",
        "    # Get the indices of the recommended anime\n",
        "    anime_indices_top = [i[0] for i in sim_scores]\n",
        "\n",
        "    return df['name'].iloc[anime_indices_top]"
      ],
      "metadata": {
        "id": "d4xGX1KrI-R1"
      },
      "execution_count": 24,
      "outputs": []
    },
    {
      "cell_type": "code",
      "source": [
        "# Example usage\n",
        "print(\"\\nExample Recommendations for 'Naruto':\")\n",
        "print(recommend_anime('Naruto', top_n=5))"
      ],
      "metadata": {
        "colab": {
          "base_uri": "https://localhost:8080/"
        },
        "id": "VhNsyueUJg2c",
        "outputId": "3121aba9-fc8d-4cf8-bbd9-f74883e9a2ca"
      },
      "execution_count": 25,
      "outputs": [
        {
          "output_type": "stream",
          "name": "stdout",
          "text": [
            "\n",
            "Example Recommendations for 'Naruto':\n",
            "615                                    Naruto: Shippuuden\n",
            "1472          Naruto: Shippuuden Movie 4 - The Lost Tower\n",
            "1573    Naruto: Shippuuden Movie 3 - Hi no Ishi wo Tsu...\n",
            "486                              Boruto: Naruto the Movie\n",
            "1343                                          Naruto x UT\n",
            "Name: name, dtype: object\n"
          ]
        }
      ]
    },
    {
      "cell_type": "code",
      "source": [
        "# -----------------------------------------------\n",
        "# STEP 6: EVALUATION (BASIC PRECISION@K)\n",
        "# -----------------------------------------------"
      ],
      "metadata": {
        "id": "SCGGHyyPJoAn"
      },
      "execution_count": 26,
      "outputs": []
    },
    {
      "cell_type": "code",
      "source": [
        "# Simplified evaluation based on genre overlap\n",
        "def evaluate_recommendation(title, top_n=5):\n",
        "    \"\"\"\n",
        "    Evaluate recommendations based on whether recommended anime share genres with the original anime.\n",
        "    Args:\n",
        "        title (str): The anime title for evaluation.\n",
        "        top_n (int): Number of recommendations to evaluate.\n",
        "    Returns:\n",
        "        float: Precision at top_n recommendations.\n",
        "    \"\"\"\n",
        "    if title not in anime_indices:\n",
        "        return 0\n",
        "\n",
        "    recommended = recommend_anime(title, top_n)\n",
        "\n",
        "    # Get genres of the target anime\n",
        "    original_genres = set(df.loc[anime_indices[title], 'genre'])\n",
        "\n",
        "    matches = 0\n",
        "    for anime in recommended:\n",
        "        rec_genres = set(df.loc[anime_indices[anime], 'genre'])\n",
        "        # Count matches if there is at least one common genre\n",
        "        if original_genres & rec_genres:\n",
        "            matches += 1\n",
        "\n",
        "    precision = matches / top_n\n",
        "    return precision"
      ],
      "metadata": {
        "id": "1XoN8wuNJyHy"
      },
      "execution_count": 27,
      "outputs": []
    },
    {
      "cell_type": "code",
      "source": [
        "# Example evaluation\n",
        "print(\"\\nPrecision@5 for 'Naruto':\")\n",
        "print(evaluate_recommendation('Naruto', top_n=5))"
      ],
      "metadata": {
        "colab": {
          "base_uri": "https://localhost:8080/"
        },
        "id": "KZEt5ppGKD33",
        "outputId": "743e21d9-bbe5-4bac-dde6-56ae82dbe7ed"
      },
      "execution_count": 28,
      "outputs": [
        {
          "output_type": "stream",
          "name": "stdout",
          "text": [
            "\n",
            "Precision@5 for 'Naruto':\n",
            "1.0\n"
          ]
        }
      ]
    },
    {
      "cell_type": "markdown",
      "source": [
        "**Interview Questions:**"
      ],
      "metadata": {
        "id": "EXqNs4eKKZH0"
      }
    },
    {
      "cell_type": "markdown",
      "source": [
        "# 1. Can you explain the difference between user-based and item-based collaborative filtering?\n",
        "\n",
        "Collaborative filtering is a technique used in recommendation systems. It works by finding patterns of preferences among users or items. There are two major types:\n",
        "\n",
        "## ✅ 1. User-Based Collaborative Filtering\n",
        "- **Concept:** Recommend items to a user based on the preferences of **similar users**.\n",
        "- **Working:**\n",
        "  - Find users who have a **similar taste or behavior**.\n",
        "  - Recommend items liked by these similar users but **not yet interacted** with by the target user.\n",
        "- **Example:**\n",
        "  - If User A and User B both like Anime X and Anime Y, and User B also likes Anime Z, then Anime Z may be recommended to User A.\n",
        "- **Pros:**\n",
        "  - Easy to implement.\n",
        "  - Works well in communities where user preferences are stable.\n",
        "- **Cons:**\n",
        "  - Struggles with **scalability** when there are many users.\n",
        "  - Suffers when user data is **sparse** (cold-start problem).\n",
        "\n",
        "---\n",
        "\n",
        "## ✅ 2. Item-Based Collaborative Filtering\n",
        "- **Concept:** Recommend items similar to those the user has already liked or interacted with.\n",
        "- **Working:**\n",
        "  - Find **items that are similar** to the ones the user has already rated or interacted with.\n",
        "  - Recommend these similar items to the user.\n",
        "- **Example:**\n",
        "  - If a user liked Anime A and Anime A is similar to Anime B (because many users liked both), recommend Anime B.\n",
        "- **Pros:**\n",
        "  - More **scalable** as the number of items tends to be fewer than the number of users.\n",
        "  - Recommendations are **more stable over time**, since item similarity changes less frequently.\n",
        "- **Cons:**\n",
        "  - Needs a sufficient amount of item interaction data to build accurate similarity scores.\n",
        "\n",
        "---\n",
        "\n",
        "## 📊 Summary Table\n",
        "\n",
        "| Aspect                            | User-Based Filtering                          | Item-Based Filtering                        |\n",
        "|------------------------------------|-----------------------------------------------|--------------------------------------------|\n",
        "| Based on                           | Similar users' preferences                    | Similarity between items                   |\n",
        "| Example                            | Recommend what similar users liked            | Recommend items similar to what you liked  |\n",
        "| Scalability                        | Less scalable with many users                 | More scalable                              |\n",
        "| Cold-start Problem                 | Affects new users                             | Affects new items                          |\n",
        "| Data Dependency                    | Depends on user similarity                    | Depends on item similarity                 |\n",
        "\n",
        "---"
      ],
      "metadata": {
        "id": "HjEnVgJbKvRa"
      }
    },
    {
      "cell_type": "code",
      "source": [],
      "metadata": {
        "id": "CQt2MB8_K95B"
      },
      "execution_count": null,
      "outputs": []
    },
    {
      "cell_type": "markdown",
      "source": [
        "# 2. What is Collaborative Filtering and How Does it Work?\n",
        "\n",
        "## ✅ Collaborative Filtering: Overview\n",
        "\n",
        "Collaborative Filtering is one of the most widely used techniques in recommendation systems.  \n",
        "It makes automatic predictions (filtering) about the interests of a user by collecting preferences from **many users (collaborative).**\n",
        "\n",
        "---\n",
        "\n",
        "## 🔍 How Collaborative Filtering Works:\n",
        "\n",
        "Collaborative Filtering is based on the assumption:\n",
        "> \"**If users agreed in the past, they will likely agree again in the future.**\"\n",
        "\n",
        "It works in the following way:\n",
        "\n",
        "### **Step 1: Collect User-Item Interactions**\n",
        "- Example: A user rating an anime, purchasing a product, watching a movie, etc.\n",
        "- This data is stored in a **user-item interaction matrix**, where rows = users, columns = items.\n",
        "\n",
        "### **Step 2: Calculate Similarities**\n",
        "- Similarities can be calculated in two ways:\n",
        "  - **User Similarity:** How similar are two users based on their preferences?\n",
        "  - **Item Similarity:** How similar are two items based on user preferences?\n",
        "\n",
        "### **Step 3: Predict User Preferences**\n",
        "- Based on similarity:\n",
        "   - Recommend items that similar users have liked (**User-Based Collaborative Filtering**).\n",
        "   - Recommend items similar to the ones the user liked (**Item-Based Collaborative Filtering**).\n",
        "\n",
        "### **Step 4: Generate Recommendations**\n",
        "- Recommend top **N items** with the highest predicted ratings or interaction likelihood.\n",
        "\n",
        "---\n",
        "\n",
        "## 🔑 Types of Collaborative Filtering\n",
        "\n",
        "| Type                              | Description                                                             |\n",
        "|------------------------------------|-------------------------------------------------------------------------|\n",
        "| **User-Based Collaborative Filtering** | Recommends items liked by similar users.                               |\n",
        "| **Item-Based Collaborative Filtering** | Recommends items similar to those the user has interacted with.         |\n",
        "\n",
        "---\n",
        "\n",
        "## ⚠️ Challenges in Collaborative Filtering\n",
        "- **Cold Start Problem:** Difficult to recommend for new users or items without enough data.\n",
        "- **Data Sparsity:** Users interact with a small subset of items → large sparse matrices.\n",
        "- **Scalability:** Computing similarity for large datasets can be computationally expensive.\n",
        "\n",
        "---\n",
        "\n",
        "## ✅ Example Use Cases:\n",
        "- Netflix recommending shows based on other users’ watch history.\n",
        "- Amazon suggesting products based on user purchase behavior.\n",
        "- Spotify recommending songs based on user listening habits.\n",
        "\n"
      ],
      "metadata": {
        "id": "FsxXujliLR_H"
      }
    },
    {
      "cell_type": "markdown",
      "source": [
        "# 🙏 Thank You! 😊"
      ],
      "metadata": {
        "id": "V96cXAsSMWyA"
      }
    }
  ]
}